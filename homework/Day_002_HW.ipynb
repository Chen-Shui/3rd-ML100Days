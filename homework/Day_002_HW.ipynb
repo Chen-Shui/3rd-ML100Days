{
 "cells": [
  {
   "cell_type": "markdown",
   "metadata": {},
   "source": [
    "# 認為機器學習可以發光發熱的領域"
   ]
  },
  {
   "cell_type": "markdown",
   "metadata": {},
   "source": [
    "    學生認為機器學習領域有很廣的發展範圍，而其中最令普通老百姓最有感的發展領域為網路購物網站。\n",
    "    就如同文章裡所提到的關聯規則，購物籃法則從以前開始一直是銷售業者關心其業績最直接的影響，透過大量的消費者購物紀錄，找出相關物品的關聯性甚至相斥性，締造啤酒跟尿布的基礎例案。光是找出商品之間的關聯，若是在實體賣場即可將相關物放在鄰近位置甚至做一些優惠促銷，必可提升相對銷量。然而，線上的購物網站要如何運用機器學習？學生認為可以透過使用者查詢物品的歷史搜尋紀錄、購物車裡暫放的商品、按喜歡收藏的商品等等進行比對，可以主動跳出使用者接下來可能會需要一起購買的商品放在推薦欄位，甚至主動找出最低廉的搭配，推出相關優惠券呈現優惠方案，或是列出評價最高的商品組合，可以給消費者自己選擇修先挑選條件，系統平台直接列舉出使用者可能中意的商品，賣方可以透過此分析紀錄減少庫存降低成本，買方也可輕鬆購物省下更多時間去逛更多賣場，營造出一個雙贏的互利共生。"
   ]
  }
 ],
 "metadata": {
  "kernelspec": {
   "display_name": "Python 3",
   "language": "python",
   "name": "python3"
  },
  "language_info": {
   "codemirror_mode": {
    "name": "ipython",
    "version": 3
   },
   "file_extension": ".py",
   "mimetype": "text/x-python",
   "name": "python",
   "nbconvert_exporter": "python",
   "pygments_lexer": "ipython3",
   "version": "3.6.3"
  }
 },
 "nbformat": 4,
 "nbformat_minor": 2
}
