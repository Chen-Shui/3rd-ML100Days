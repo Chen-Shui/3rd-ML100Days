{
 "cells": [
  {
   "cell_type": "markdown",
   "metadata": {},
   "source": [
    "# 閱讀機器學習巨頭的blog，仔細閱讀理解其中一篇文章\n",
    "## 學生選擇機器之心的一篇文章\n",
    "[剪刀石頭布!](https://www.jiqizhixin.com/articles/2019-08-23-10)"
   ]
  },
  {
   "cell_type": "markdown",
   "metadata": {},
   "source": [
    "    學生所選擇的此篇文章大意為如何訓練出一個網頁版的剪刀石頭布探測器，選擇原因為之前曾用過java寫過與電腦互相猜拳的程式，完全沒有想到連簡單的猜拳也可以運用機器學習去發展，而且是僅僅透過簡單的一個瀏覽器，在任何電腦上都可以使用進行。\n",
    "* 目標:運用瀏覽器訓練出機器學習模型\n",
    "* 方法:\n",
    "    - 首先，先用[谷歌 Laurence Moroney ](http://www.laurencemoroney.com/rock-paper-scissors-dataset/)所提供的剪刀石頭布圖像獲得訓練用數據。\n",
    "    - 由於瀏覽器的一些沙盒處理造成了圖片檔案大小上傳的限制，所以我們必須透過sprite表，把一組圖像黏在一起變成一張單獨的圖像(許多小圖像組合成一張大圖像)，所以我們可將圖像分割開來做訓練跟驗證。\n",
    "    - 接著按下網站上的按鈕，訊息會被填充到TensorFlow Visor，來製作一個簡易的模型。\n",
    "* 資料來源:\n",
    "[源代碼](https://github.com/GantMan/rps_tfjs_demo)\n",
    "[Demo](https://rps-tfjs.netlify.com/)"
   ]
  }
 ],
 "metadata": {
  "kernelspec": {
   "display_name": "Python 3",
   "language": "python",
   "name": "python3"
  },
  "language_info": {
   "codemirror_mode": {
    "name": "ipython",
    "version": 3
   },
   "file_extension": ".py",
   "mimetype": "text/x-python",
   "name": "python",
   "nbconvert_exporter": "python",
   "pygments_lexer": "ipython3",
   "version": "3.6.3"
  }
 },
 "nbformat": 4,
 "nbformat_minor": 2
}
